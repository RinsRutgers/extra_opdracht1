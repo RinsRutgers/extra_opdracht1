{
 "cells": [
  {
   "cell_type": "code",
   "execution_count": 4,
   "metadata": {},
   "outputs": [
    {
     "ename": "ModuleNotFoundError",
     "evalue": "No module named 'tensorflow'",
     "output_type": "error",
     "traceback": [
      "\u001b[0;31m---------------------------------------------------------------------------\u001b[0m",
      "\u001b[0;31mModuleNotFoundError\u001b[0m                       Traceback (most recent call last)",
      "\u001b[1;32m/home/mladmin/extra_opdracht/extra_opdracht/notebooks/dev/dev.ipynb Cell 1'\u001b[0m in \u001b[0;36m<cell line: 4>\u001b[0;34m()\u001b[0m\n\u001b[1;32m      <a href='vscode-notebook-cell://ssh-remote%2B7b22686f73744e616d65223a224d6173746572536572766572227d/home/mladmin/extra_opdracht/extra_opdracht/notebooks/dev/dev.ipynb#ch0000000vscode-remote?line=0'>1</a>\u001b[0m \u001b[39mimport\u001b[39;00m \u001b[39msys\u001b[39;00m\n\u001b[1;32m      <a href='vscode-notebook-cell://ssh-remote%2B7b22686f73744e616d65223a224d6173746572536572766572227d/home/mladmin/extra_opdracht/extra_opdracht/notebooks/dev/dev.ipynb#ch0000000vscode-remote?line=1'>2</a>\u001b[0m sys\u001b[39m.\u001b[39mpath\u001b[39m.\u001b[39minsert(\u001b[39m0\u001b[39m, \u001b[39m\"\u001b[39m\u001b[39m../..\u001b[39m\u001b[39m\"\u001b[39m)\n\u001b[0;32m----> <a href='vscode-notebook-cell://ssh-remote%2B7b22686f73744e616d65223a224d6173746572536572766572227d/home/mladmin/extra_opdracht/extra_opdracht/notebooks/dev/dev.ipynb#ch0000000vscode-remote?line=3'>4</a>\u001b[0m \u001b[39mfrom\u001b[39;00m \u001b[39msrc\u001b[39;00m\u001b[39m.\u001b[39;00m\u001b[39mdata\u001b[39;00m \u001b[39mimport\u001b[39;00m make_dataset\n",
      "File \u001b[0;32m~/extra_opdracht/extra_opdracht/notebooks/dev/../../src/data/make_dataset.py:1\u001b[0m, in \u001b[0;36m<module>\u001b[0;34m\u001b[0m\n\u001b[0;32m----> <a href='file:///home/mladmin/extra_opdracht/extra_opdracht/notebooks/dev/../../src/data/make_dataset.py?line=0'>1</a>\u001b[0m \u001b[39mimport\u001b[39;00m \u001b[39mtensorflow\u001b[39;00m \u001b[39mas\u001b[39;00m \u001b[39mtf\u001b[39;00m\n\u001b[1;32m      <a href='file:///home/mladmin/extra_opdracht/extra_opdracht/notebooks/dev/../../src/data/make_dataset.py?line=2'>3</a>\u001b[0m \u001b[39mdef\u001b[39;00m \u001b[39mget_eeg\u001b[39m() \u001b[39m-\u001b[39m\u001b[39m>\u001b[39m Path:\n\u001b[1;32m      <a href='file:///home/mladmin/extra_opdracht/extra_opdracht/notebooks/dev/../../src/data/make_dataset.py?line=3'>4</a>\u001b[0m     \u001b[39m\"\"\"\u001b[39;00m\n\u001b[1;32m      <a href='file:///home/mladmin/extra_opdracht/extra_opdracht/notebooks/dev/../../src/data/make_dataset.py?line=4'>5</a>\u001b[0m \u001b[39m    This function downloads the eeg dataset from:\u001b[39;00m\n\u001b[1;32m      <a href='file:///home/mladmin/extra_opdracht/extra_opdracht/notebooks/dev/../../src/data/make_dataset.py?line=5'>6</a>\u001b[0m \u001b[39m    https://archive.ics.uci.edu/ml/datasets/EEG+Eye+State\u001b[39;00m\n\u001b[1;32m      <a href='file:///home/mladmin/extra_opdracht/extra_opdracht/notebooks/dev/../../src/data/make_dataset.py?line=6'>7</a>\u001b[0m \u001b[39m    and stores it in the given data dir. \u001b[39;00m\n\u001b[1;32m      <a href='file:///home/mladmin/extra_opdracht/extra_opdracht/notebooks/dev/../../src/data/make_dataset.py?line=7'>8</a>\u001b[0m \u001b[39m    \"\"\"\u001b[39;00m\n",
      "\u001b[0;31mModuleNotFoundError\u001b[0m: No module named 'tensorflow'"
     ]
    }
   ],
   "source": [
    "import sys\n",
    "sys.path.insert(0, \"../..\")\n",
    "\n",
    "from src.data import make_dataset"
   ]
  }
 ],
 "metadata": {
  "interpreter": {
   "hash": "e9cca337e3fee37bb22feef76464cdd2c5dbfac57e238cafc3975e2bc4bae173"
  },
  "kernelspec": {
   "display_name": "Python 3.9.12 ('extra-opdracht-INCB3JbF-py3.9')",
   "language": "python",
   "name": "python3"
  },
  "language_info": {
   "codemirror_mode": {
    "name": "ipython",
    "version": 3
   },
   "file_extension": ".py",
   "mimetype": "text/x-python",
   "name": "python",
   "nbconvert_exporter": "python",
   "pygments_lexer": "ipython3",
   "version": "3.9.12"
  },
  "orig_nbformat": 4
 },
 "nbformat": 4,
 "nbformat_minor": 2
}
